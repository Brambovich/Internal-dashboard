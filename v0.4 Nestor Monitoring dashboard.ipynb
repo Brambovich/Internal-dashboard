{
 "cells": [
  {
   "cell_type": "markdown",
   "metadata": {},
   "source": [
    "# Nestor monitoring dashboard"
   ]
  },
  {
   "cell_type": "markdown",
   "metadata": {},
   "source": [
    "#### dependencies"
   ]
  },
  {
   "cell_type": "code",
   "execution_count": null,
   "metadata": {},
   "outputs": [],
   "source": [
    "import os\n",
    "import sys\n",
    "module_path = os.path.abspath(os.path.join(''))\n",
    "if module_path not in sys.path:\n",
    "    sys.path.append(module_path)"
   ]
  },
  {
   "cell_type": "markdown",
   "metadata": {},
   "source": [
    "#### Functions, main app and callbacks"
   ]
  },
  {
   "cell_type": "code",
   "execution_count": null,
   "metadata": {},
   "outputs": [],
   "source": [
    "from function_folder.database_functions import retrieve_df, parse_contents\n",
    "from function_folder.layout_functions import generate_table, testfunc\n",
    "from layout_new import make_layout\n",
    "from callback_folder import figure_callbacks, node_list_callbacks\n",
    "from mainapp import app"
   ]
  },
  {
   "cell_type": "markdown",
   "metadata": {},
   "source": [
    "#### App Layout"
   ]
  },
  {
   "cell_type": "code",
   "execution_count": 4,
   "metadata": {},
   "outputs": [],
   "source": [
    "app.layout = make_layout()"
   ]
  },
  {
   "cell_type": "markdown",
   "metadata": {},
   "source": [
    "#### Run the app"
   ]
  },
  {
   "cell_type": "code",
   "execution_count": 5,
   "metadata": {},
   "outputs": [
    {
     "name": "stdout",
     "output_type": "stream",
     "text": [
      "Dash app running on https://jupyter01.undagrid.com/user/bram@undagrid.com/proxy/40107/\n",
      "UPDATE NODELIST!!\n",
      "\n",
      "button pressed:  \n",
      "None\n",
      "UPDATE NODELIST!!\n",
      "\n",
      "button pressed:  add-node\n",
      "['0810013XS0']\n"
     ]
    },
    {
     "name": "stderr",
     "output_type": "stream",
     "text": [
      "/opt/conda/lib/python3.8/site-packages/sqlalchemy/dialects/postgresql/base.py:3468: SAWarning:\n",
      "\n",
      "Predicate of partial index log_node_idx_timestamp_type_u_idx ignored during reflection\n",
      "\n",
      "/opt/conda/lib/python3.8/site-packages/sqlalchemy/dialects/postgresql/base.py:3468: SAWarning:\n",
      "\n",
      "Predicate of partial index log_node_idx_timestamp_type_u_idx ignored during reflection\n",
      "\n",
      "/opt/conda/lib/python3.8/site-packages/sqlalchemy/dialects/postgresql/base.py:3468: SAWarning:\n",
      "\n",
      "Predicate of partial index log_node_idx_timestamp_type_u_idx ignored during reflection\n",
      "\n",
      "/opt/conda/lib/python3.8/site-packages/sqlalchemy/dialects/postgresql/base.py:3468: SAWarning:\n",
      "\n",
      "Predicate of partial index log_node_idx_timestamp_type_u_idx ignored during reflection\n",
      "\n",
      "/opt/conda/lib/python3.8/site-packages/sqlalchemy/dialects/postgresql/base.py:3468: SAWarning:\n",
      "\n",
      "Predicate of partial index log_node_idx_timestamp_type_u_idx ignored during reflection\n",
      "\n",
      "/opt/conda/lib/python3.8/site-packages/sqlalchemy/dialects/postgresql/base.py:3468: SAWarning:\n",
      "\n",
      "Predicate of partial index log_node_idx_timestamp_type_u_idx ignored during reflection\n",
      "\n",
      "/opt/conda/lib/python3.8/site-packages/sqlalchemy/dialects/postgresql/base.py:3468: SAWarning:\n",
      "\n",
      "Predicate of partial index log_node_idx_timestamp_type_u_idx ignored during reflection\n",
      "\n",
      "/opt/conda/lib/python3.8/site-packages/sqlalchemy/dialects/postgresql/base.py:3468: SAWarning:\n",
      "\n",
      "Predicate of partial index log_node_idx_timestamp_type_u_idx ignored during reflection\n",
      "\n",
      "/opt/conda/lib/python3.8/site-packages/sqlalchemy/dialects/postgresql/base.py:3468: SAWarning:\n",
      "\n",
      "Predicate of partial index log_node_idx_timestamp_type_u_idx ignored during reflection\n",
      "\n"
     ]
    }
   ],
   "source": [
    "app.run_server(mode=\"external\", debug=True, dev_tools_hot_reload=True, port=40107)"
   ]
  },
  {
   "cell_type": "code",
   "execution_count": null,
   "metadata": {},
   "outputs": [],
   "source": []
  },
  {
   "cell_type": "code",
   "execution_count": null,
   "metadata": {},
   "outputs": [],
   "source": []
  }
 ],
 "metadata": {
  "kernelspec": {
   "display_name": "Python 3",
   "language": "python",
   "name": "python3"
  },
  "language_info": {
   "codemirror_mode": {
    "name": "ipython",
    "version": 3
   },
   "file_extension": ".py",
   "mimetype": "text/x-python",
   "name": "python",
   "nbconvert_exporter": "python",
   "pygments_lexer": "ipython3",
   "version": "3.8.3"
  }
 },
 "nbformat": 4,
 "nbformat_minor": 4
}
